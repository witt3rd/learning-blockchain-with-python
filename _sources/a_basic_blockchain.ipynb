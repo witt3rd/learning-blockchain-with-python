{
 "cells": [
  {
   "cell_type": "markdown",
   "metadata": {},
   "source": [
    "# A Basic Blockchain\n",
    "\n",
    "- [NeuralNine's 'Coding A Blockchain in Python'](https://youtu.be/pYasYyjByKI)"
   ]
  },
  {
   "cell_type": "markdown",
   "metadata": {},
   "source": [
    "## Hashing\n",
    "\n",
    "TODO: Why is hashing so important?"
   ]
  },
  {
   "cell_type": "code",
   "execution_count": 8,
   "metadata": {},
   "outputs": [],
   "source": [
    "import hashlib"
   ]
  },
  {
   "cell_type": "markdown",
   "metadata": {},
   "source": [
    "## Blockchain\n",
    "\n",
    "TODO: What is a blockchain?"
   ]
  },
  {
   "cell_type": "code",
   "execution_count": 9,
   "metadata": {},
   "outputs": [],
   "source": [
    "class NeuralCoinBlock:\n",
    "\n",
    "    def __init__(self, previous_block_hash, transaction_list):\n",
    "        self.previous_block_hash = previous_block_hash\n",
    "        self.transaction_list = transaction_list\n",
    "\n",
    "        self.block_data = \"-\".join(transaction_list) + \"-\" + previous_block_hash\n",
    "        self.block_hash = hashlib.sha256(self.block_data.encode()).hexdigest()"
   ]
  },
  {
   "cell_type": "markdown",
   "metadata": {},
   "source": [
    "## Transactions\n",
    "\n",
    "TODO: What are transactions?"
   ]
  },
  {
   "cell_type": "code",
   "execution_count": 10,
   "metadata": {},
   "outputs": [],
   "source": [
    "t1 = \"Anna sends 2 NC to Mike\"\n",
    "t2 = \"Bob sends 4.1 NC to Mike\"\n",
    "t3 = \"Mike sends 3.2 NC to Bob\"\n",
    "t4 = \"Daniel sends 0.3 NC to Anna\"\n",
    "t5 = \"Mike sends 1 NC to Charlie\"\n",
    "t6 = \"Mike sends 5.4 NC to Daniel\""
   ]
  },
  {
   "cell_type": "markdown",
   "metadata": {},
   "source": [
    "## Creating and Chaining Blocks"
   ]
  },
  {
   "cell_type": "code",
   "execution_count": 11,
   "metadata": {},
   "outputs": [
    {
     "name": "stdout",
     "output_type": "stream",
     "text": [
      "Anna sends 2 NC to Mike-Bob sends 4.1 NC to Mike-Initial String\n",
      "ac7c14de74c73ddea0bd7d122af9874da86a5900c006a79aaf7dbf0cf9cd38d2\n"
     ]
    }
   ],
   "source": [
    "initial_block = NeuralCoinBlock(\"Initial String\", [t1, t2])\n",
    "print(initial_block.block_data)\n",
    "print(initial_block.block_hash)"
   ]
  },
  {
   "cell_type": "code",
   "execution_count": 12,
   "metadata": {},
   "outputs": [
    {
     "name": "stdout",
     "output_type": "stream",
     "text": [
      "Mike sends 3.2 NC to Bob-Daniel sends 0.3 NC to Anna-ac7c14de74c73ddea0bd7d122af9874da86a5900c006a79aaf7dbf0cf9cd38d2\n",
      "77df85743d58d74d264b295beccb5e77b9ab55e25c136cccf01a092f9900fa2e\n"
     ]
    }
   ],
   "source": [
    "second_block = NeuralCoinBlock(initial_block.block_hash, [t3, t4])\n",
    "print(second_block.block_data)\n",
    "print(second_block.block_hash)"
   ]
  },
  {
   "cell_type": "code",
   "execution_count": 13,
   "metadata": {},
   "outputs": [
    {
     "name": "stdout",
     "output_type": "stream",
     "text": [
      "Mike sends 1 NC to Charlie-Mike sends 5.4 NC to Daniel-77df85743d58d74d264b295beccb5e77b9ab55e25c136cccf01a092f9900fa2e\n",
      "d72b3e86f9a78b719e5b011d8434f2787fc89cbd4bde3623f77b6b92022c37fa\n"
     ]
    }
   ],
   "source": [
    "third_block = NeuralCoinBlock(second_block.block_hash, [t5, t6])\n",
    "print(third_block.block_data)\n",
    "print(third_block.block_hash)"
   ]
  }
 ],
 "metadata": {
  "kernelspec": {
   "display_name": "Python 3",
   "language": "python",
   "name": "python3"
  },
  "language_info": {
   "codemirror_mode": {
    "name": "ipython",
    "version": 3
   },
   "file_extension": ".py",
   "mimetype": "text/x-python",
   "name": "python",
   "nbconvert_exporter": "python",
   "pygments_lexer": "ipython3",
   "version": "3.9.9"
  },
  "widgets": {
   "application/vnd.jupyter.widget-state+json": {
    "state": {},
    "version_major": 2,
    "version_minor": 0
   }
  }
 },
 "nbformat": 4,
 "nbformat_minor": 4
}
